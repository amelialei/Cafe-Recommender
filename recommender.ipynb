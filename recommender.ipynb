{
 "cells": [
  {
   "cell_type": "code",
   "execution_count": 4,
   "metadata": {},
   "outputs": [],
   "source": [
    "import pandas as pd\n",
    "import json"
   ]
  },
  {
   "cell_type": "code",
   "execution_count": 7,
   "metadata": {},
   "outputs": [],
   "source": [
    "business_json_path = '/Users/amelialei/yelp_dataset/yelp_academic_dataset_business.json'\n",
    "bus_df = pd.read_json(business_json_path, lines = True)\n"
   ]
  },
  {
   "cell_type": "code",
   "execution_count": 8,
   "metadata": {},
   "outputs": [],
   "source": [
    "bus_df = bus_df[bus_df['is_open'] == 1]\n"
   ]
  },
  {
   "cell_type": "code",
   "execution_count": 9,
   "metadata": {},
   "outputs": [],
   "source": [
    "drop_cols = ['is_open', 'review_count']\n",
    "bus_df = bus_df.drop(drop_cols, axis =1)\n"
   ]
  },
  {
   "cell_type": "code",
   "execution_count": 13,
   "metadata": {},
   "outputs": [],
   "source": [
    "bus_df = bus_df[bus_df['categories'].str.contains('Bubble Tea|Coffee and Tea', case = False, na = False)]"
   ]
  },
  {
   "cell_type": "code",
   "execution_count": 15,
   "metadata": {},
   "outputs": [],
   "source": [
    "review_json_path = '/Users/amelialei/yelp_dataset/yelp_academic_dataset_review.json'"
   ]
  },
  {
   "cell_type": "code",
   "execution_count": 20,
   "metadata": {},
   "outputs": [],
   "source": [
    "size = 1000000\n",
    "review = pd.read_json(review_json_path, lines=True, dtype = {'review_id': str, 'user_id': str, 'business_id': str, 'stars': int, 'date': str, 'text': str, 'useful': int, 'funny': int, 'cool': int}, chunksize = size)"
   ]
  },
  {
   "cell_type": "code",
   "execution_count": 22,
   "metadata": {},
   "outputs": [],
   "source": [
    "chunk_list = []\n",
    "for review_chunk in review:\n",
    "    review_chunk = review_chunk.drop(['review_id', 'useful', 'funny', 'cool'], axis=1)\n",
    "    review_chunk = review_chunk.rename(columns={'stars': 'review_stars'})\n",
    "    chunk_merged = pd.merge(bus_df, review_chunk, on='business_id', how='inner')\n",
    "    chunk_list.append(chunk_merged)\n",
    "df = pd.concat(chunk_list, ignore_index=True, join='outer', axis=0)"
   ]
  },
  {
   "cell_type": "code",
   "execution_count": 25,
   "metadata": {},
   "outputs": [
    {
     "data": {
      "text/plain": [
       "0        Summary: good and reasonably priced food with ...\n",
       "1        I was looking for some good sushi and sashimi ...\n",
       "2        Food was great. Didn't know that it was a BYOB...\n",
       "3        really fun to eat here.  Hip music.  Lively am...\n",
       "4        So surprised that this place is so modernized,...\n",
       "                               ...                        \n",
       "28045    Super delicious! They have unique flavors here...\n",
       "28046    Good quality of tea and some unique options. S...\n",
       "28047    AMAZING,\\n\\n\\n\\nthats all i can say\\nIf you go...\n",
       "28048    Good tea, interesting milk foam. I wish it wou...\n",
       "28049    Out of all the boba places I've tried in Phill...\n",
       "Name: text, Length: 28050, dtype: object"
      ]
     },
     "execution_count": 25,
     "metadata": {},
     "output_type": "execute_result"
    }
   ],
   "source": [
    "df['text']"
   ]
  },
  {
   "cell_type": "code",
   "execution_count": null,
   "metadata": {},
   "outputs": [],
   "source": [
    "df_explode = bus_df.assign(categories)"
   ]
  }
 ],
 "metadata": {
  "kernelspec": {
   "display_name": "caferec-env",
   "language": "python",
   "name": "python3"
  },
  "language_info": {
   "codemirror_mode": {
    "name": "ipython",
    "version": 3
   },
   "file_extension": ".py",
   "mimetype": "text/x-python",
   "name": "python",
   "nbconvert_exporter": "python",
   "pygments_lexer": "ipython3",
   "version": "3.12.5"
  },
  "orig_nbformat": 4
 },
 "nbformat": 4,
 "nbformat_minor": 2
}
